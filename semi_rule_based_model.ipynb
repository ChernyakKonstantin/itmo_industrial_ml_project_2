{
 "cells": [
  {
   "cell_type": "code",
   "execution_count": 137,
   "metadata": {},
   "outputs": [],
   "source": [
    "import pandas as pd\n",
    "import pickle\n",
    "import numpy as np\n",
    "import json\n",
    "from sklearn.ensemble import RandomForestClassifier\n",
    "from sklearn.metrics import precision_score, recall_score\n",
    "from sklearn.model_selection import train_test_split\n",
    "from tqdm import tqdm"
   ]
  },
  {
   "cell_type": "code",
   "execution_count": 123,
   "metadata": {},
   "outputs": [],
   "source": [
    "class Predictor:\n",
    "    def __init__(\n",
    "        self, \n",
    "        name2_emb_pickle: str,\n",
    "        generalized_work_class2idx_json: str,\n",
    "        generalized2global_mapping_json: str,\n",
    "        classifier\n",
    "    ):\n",
    "        with open(name2_emb_pickle, \"rb\") as f:\n",
    "            self.name2_emb = pickle.load(f)\n",
    "            \n",
    "        with open(generalized_work_class2idx_json, \"r\") as f:\n",
    "            self.generalized_work_class2idx = json.load(f)\n",
    "            self.idx2generalized_work_class = {i: gwc for gwc, i in self.generalized_work_class2idx.items()}\n",
    "                \n",
    "        with open(generalized2global_mapping_json, \"r\") as f:\n",
    "            self.generalized2global_mapping = json.load(f)\n",
    "        \n",
    "        self.classifier = classifier\n",
    "        \n",
    "        # Can be filled in `fit` method.\n",
    "        self.workname2generalized_work_classes_single_entries = {}\n",
    "\n",
    "    def fit(self, df: pd.DataFrame):\n",
    "        df_ =  df[[\"work_name\", \"generalized_work_class\"]].dropna()\n",
    "        work_names = df_.work_name.to_list()\n",
    "        generalized_work_classes = df_.generalized_work_class.to_list()\n",
    "                \n",
    "        generalized_work_classes_idxes = np.asarray([self.generalized_work_class2idx[gen_work_cls] for gen_work_cls in generalized_work_classes])\n",
    "        \n",
    "        embeddings = [self.name2_emb[n] for n in work_names]   \n",
    "        embeddings = np.stack(embeddings)\n",
    "        \n",
    "        # generalized_work classes with single occurence are excluded from the classifier scope and stored separately.\n",
    "        generalized_work_classes_occurences = pd.Series(generalized_work_classes_idxes).value_counts()\n",
    "        single_appearings = generalized_work_classes_occurences[generalized_work_classes_occurences == 1].index.to_list()\n",
    "        kept_samples_idxes = []\n",
    "        for sample_idx, gen_work_cls_idx in enumerate(generalized_work_classes_idxes):\n",
    "            if gen_work_cls_idx in single_appearings:\n",
    "                gen_work_cls = self.idx2generalized_work_class[gen_work_cls_idx]\n",
    "                work_name = work_names[sample_idx]\n",
    "                self.workname2generalized_work_classes_single_entries[work_name] = gen_work_cls\n",
    "            else:\n",
    "                kept_samples_idxes.append(sample_idx)\n",
    "        embeddings = embeddings[kept_samples_idxes]\n",
    "        generalized_work_classes_idxes = generalized_work_classes_idxes[kept_samples_idxes]\n",
    "               \n",
    "        train_x, test_x, train_y, test_y = train_test_split(\n",
    "            embeddings, \n",
    "            generalized_work_classes_idxes, \n",
    "            test_size=0.15, \n",
    "            stratify=generalized_work_classes_idxes, \n",
    "            random_state=1,\n",
    "        )\n",
    "        \n",
    "        print(f\"Train size: {len(train_x)}, Test size: {len(test_x)}\")\n",
    "        \n",
    "        print(\"Fitting classifier...\")\n",
    "        self.classifier.fit(train_x, train_y)\n",
    "        \n",
    "        print(\"Validating classifier...\")\n",
    "        pred_y = self.classifier.predict(test_x)\n",
    "        print(\"Precision: \", precision_score(test_y, pred_y, average=\"macro\"))\n",
    "        print(\"Recall: \", recall_score(test_y, pred_y, average=\"macro\"))\n",
    "    \n",
    "    def predict(self, df: pd.DataFrame) -> pd.DataFrame:\n",
    "        assert df.work_name.notnull().all(), \"remove nullable `work_name` entries\"\n",
    "                \n",
    "        prediction = df.copy()\n",
    "                \n",
    "        special_case_idxes = df.work_name.apply(lambda x: x in self.workname2generalized_work_classes_single_entries.keys())\n",
    "        prediction.generalized_work_class[special_case_idxes] = prediction.work_name[special_case_idxes].apply(lambda x: self.workname2generalized_work_classes_single_entries[x])\n",
    "        \n",
    "        usual_case_idxes = ~special_case_idxes\n",
    "        embeddings = prediction.work_name.apply(lambda x: self.name2_emb[x]).to_numpy()\n",
    "        embeddings = np.stack(embeddings)\n",
    "        generalized_work_class_idxes = self.classifier.predict(embeddings)\n",
    "        generalized_work_classes = pd.Series([self.idx2generalized_work_class[i] for i in generalized_work_class_idxes], index=special_case_idxes.index)\n",
    "        prediction.generalized_work_class[usual_case_idxes] = generalized_work_classes[usual_case_idxes]\n",
    "        \n",
    "        idxes_to_restore_generalized_work_class = df.generalized_work_class.notna()\n",
    "        prediction.generalized_work_class[idxes_to_restore_generalized_work_class] = df.generalized_work_class[idxes_to_restore_generalized_work_class]\n",
    "        \n",
    "        prediction.global_work_class = prediction.generalized_work_class.apply(lambda x: self.generalized2global_mapping[x])\n",
    "        \n",
    "        idxes_to_resore_global_work_class = df.global_work_class.notna()\n",
    "        prediction.global_work_class[idxes_to_resore_global_work_class] = df.global_work_class[idxes_to_resore_global_work_class]\n",
    "        \n",
    "        return prediction\n",
    "    \n",
    "    def save(self, pickle_path: str):\n",
    "        with open(pickle_path, \"wb\") as f:\n",
    "            pickle.dump(self, f)\n",
    "            \n",
    "    @staticmethod\n",
    "    def load(pickle_path: str):\n",
    "        with open(pickle_path, \"rb\") as f:\n",
    "            return pickle.load(f)\n",
    "        "
   ]
  },
  {
   "cell_type": "code",
   "execution_count": 124,
   "metadata": {},
   "outputs": [],
   "source": [
    "classifier = RandomForestClassifier(\n",
    "    n_estimators=100,\n",
    "    n_jobs=-1, \n",
    "    random_state=1, \n",
    "    class_weight=\"balanced_subsample\",\n",
    ")\n",
    "\n",
    "predictor = Predictor(\n",
    "    \"./name2emb.pickle\",\n",
    "    \"./generalized_work_class2idx.json\",\n",
    "    \"./generalized2global_mapping.json\",\n",
    "    classifier\n",
    ")"
   ]
  },
  {
   "cell_type": "code",
   "execution_count": 92,
   "metadata": {},
   "outputs": [],
   "source": [
    "df = pd.read_csv(\"lab2_oil_gas_field_construction_data.csv\")"
   ]
  },
  {
   "cell_type": "code",
   "execution_count": 46,
   "metadata": {},
   "outputs": [
    {
     "name": "stdout",
     "output_type": "stream",
     "text": [
      "Train size: 252326, Test size: 44529\n",
      "Fitting classifier...\n",
      "Validating classifier...\n"
     ]
    },
    {
     "name": "stderr",
     "output_type": "stream",
     "text": [
      "/Users/cherniak/anaconda3/envs/industrial_ml_2/lib/python3.8/site-packages/sklearn/metrics/_classification.py:1469: UndefinedMetricWarning: Precision is ill-defined and being set to 0.0 in labels with no predicted samples. Use `zero_division` parameter to control this behavior.\n",
      "  _warn_prf(average, modifier, msg_start, len(result))\n"
     ]
    },
    {
     "name": "stdout",
     "output_type": "stream",
     "text": [
      "Precision:  0.98057797468956\n",
      "Recall:  0.9476099083574409\n"
     ]
    }
   ],
   "source": [
    "predictor.fit(df)\n",
    "predictor.save(\"./random_forest_clf.pickle\")"
   ]
  },
  {
   "cell_type": "code",
   "execution_count": 139,
   "metadata": {},
   "outputs": [],
   "source": [
    "test_df = pd.read_csv(\"./lab2_test_dataset.csv\", sep=\";\")\n",
    "test_df.drop(columns=[\"index\",], inplace=True)\n",
    "test_df.dropna(inplace=True)"
   ]
  },
  {
   "cell_type": "code",
   "execution_count": 140,
   "metadata": {},
   "outputs": [
    {
     "data": {
      "text/html": [
       "<div>\n",
       "<style scoped>\n",
       "    .dataframe tbody tr th:only-of-type {\n",
       "        vertical-align: middle;\n",
       "    }\n",
       "\n",
       "    .dataframe tbody tr th {\n",
       "        vertical-align: top;\n",
       "    }\n",
       "\n",
       "    .dataframe thead th {\n",
       "        text-align: right;\n",
       "    }\n",
       "</style>\n",
       "<table border=\"1\" class=\"dataframe\">\n",
       "  <thead>\n",
       "    <tr style=\"text-align: right;\">\n",
       "      <th></th>\n",
       "      <th>work_name</th>\n",
       "      <th>generalized_work_class</th>\n",
       "      <th>global_work_class</th>\n",
       "    </tr>\n",
       "  </thead>\n",
       "  <tbody>\n",
       "    <tr>\n",
       "      <th>0</th>\n",
       "      <td>монтаж шаровых кранов, дроссельной шайбы, запо...</td>\n",
       "      <td>Монтаж мк</td>\n",
       "      <td>Монтаж мк</td>\n",
       "    </tr>\n",
       "    <tr>\n",
       "      <th>1</th>\n",
       "      <td>монтаж кипиа и зра с электроприводом</td>\n",
       "      <td>Монтаж ЗРА</td>\n",
       "      <td>Монтаж</td>\n",
       "    </tr>\n",
       "    <tr>\n",
       "      <th>2</th>\n",
       "      <td>монтаж оборудования и приборов</td>\n",
       "      <td>Монтаж приборов</td>\n",
       "      <td>Монтаж</td>\n",
       "    </tr>\n",
       "    <tr>\n",
       "      <th>3</th>\n",
       "      <td>тх./поз.2.13.1-2/монтаж арматуры</td>\n",
       "      <td>Монтаж арматуры</td>\n",
       "      <td>Монтаж</td>\n",
       "    </tr>\n",
       "    <tr>\n",
       "      <th>4</th>\n",
       "      <td>монтаж шаровых кранов, огнепреградителя, дросс...</td>\n",
       "      <td>Монтаж мк</td>\n",
       "      <td>Монтаж мк</td>\n",
       "    </tr>\n",
       "  </tbody>\n",
       "</table>\n",
       "</div>"
      ],
      "text/plain": [
       "                                           work_name generalized_work_class  \\\n",
       "0  монтаж шаровых кранов, дроссельной шайбы, запо...              Монтаж мк   \n",
       "1               монтаж кипиа и зра с электроприводом             Монтаж ЗРА   \n",
       "2                     монтаж оборудования и приборов        Монтаж приборов   \n",
       "3                   тх./поз.2.13.1-2/монтаж арматуры        Монтаж арматуры   \n",
       "4  монтаж шаровых кранов, огнепреградителя, дросс...              Монтаж мк   \n",
       "\n",
       "  global_work_class  \n",
       "0         Монтаж мк  \n",
       "1            Монтаж  \n",
       "2            Монтаж  \n",
       "3            Монтаж  \n",
       "4         Монтаж мк  "
      ]
     },
     "execution_count": 140,
     "metadata": {},
     "output_type": "execute_result"
    }
   ],
   "source": [
    "test_df.head()"
   ]
  },
  {
   "cell_type": "code",
   "execution_count": 141,
   "metadata": {},
   "outputs": [],
   "source": [
    "test_df_for_model = test_df.copy()\n",
    "test_df_for_model[\"generalized_work_class\"] = np.nan\n",
    "test_df_for_model[\"global_work_class\"] = np.nan"
   ]
  },
  {
   "cell_type": "code",
   "execution_count": 142,
   "metadata": {},
   "outputs": [
    {
     "data": {
      "text/html": [
       "<div>\n",
       "<style scoped>\n",
       "    .dataframe tbody tr th:only-of-type {\n",
       "        vertical-align: middle;\n",
       "    }\n",
       "\n",
       "    .dataframe tbody tr th {\n",
       "        vertical-align: top;\n",
       "    }\n",
       "\n",
       "    .dataframe thead th {\n",
       "        text-align: right;\n",
       "    }\n",
       "</style>\n",
       "<table border=\"1\" class=\"dataframe\">\n",
       "  <thead>\n",
       "    <tr style=\"text-align: right;\">\n",
       "      <th></th>\n",
       "      <th>work_name</th>\n",
       "      <th>generalized_work_class</th>\n",
       "      <th>global_work_class</th>\n",
       "    </tr>\n",
       "  </thead>\n",
       "  <tbody>\n",
       "    <tr>\n",
       "      <th>0</th>\n",
       "      <td>монтаж шаровых кранов, дроссельной шайбы, запо...</td>\n",
       "      <td>NaN</td>\n",
       "      <td>NaN</td>\n",
       "    </tr>\n",
       "    <tr>\n",
       "      <th>1</th>\n",
       "      <td>монтаж кипиа и зра с электроприводом</td>\n",
       "      <td>NaN</td>\n",
       "      <td>NaN</td>\n",
       "    </tr>\n",
       "    <tr>\n",
       "      <th>2</th>\n",
       "      <td>монтаж оборудования и приборов</td>\n",
       "      <td>NaN</td>\n",
       "      <td>NaN</td>\n",
       "    </tr>\n",
       "    <tr>\n",
       "      <th>3</th>\n",
       "      <td>тх./поз.2.13.1-2/монтаж арматуры</td>\n",
       "      <td>NaN</td>\n",
       "      <td>NaN</td>\n",
       "    </tr>\n",
       "    <tr>\n",
       "      <th>4</th>\n",
       "      <td>монтаж шаровых кранов, огнепреградителя, дросс...</td>\n",
       "      <td>NaN</td>\n",
       "      <td>NaN</td>\n",
       "    </tr>\n",
       "  </tbody>\n",
       "</table>\n",
       "</div>"
      ],
      "text/plain": [
       "                                           work_name  generalized_work_class  \\\n",
       "0  монтаж шаровых кранов, дроссельной шайбы, запо...                     NaN   \n",
       "1               монтаж кипиа и зра с электроприводом                     NaN   \n",
       "2                     монтаж оборудования и приборов                     NaN   \n",
       "3                   тх./поз.2.13.1-2/монтаж арматуры                     NaN   \n",
       "4  монтаж шаровых кранов, огнепреградителя, дросс...                     NaN   \n",
       "\n",
       "   global_work_class  \n",
       "0                NaN  \n",
       "1                NaN  \n",
       "2                NaN  \n",
       "3                NaN  \n",
       "4                NaN  "
      ]
     },
     "execution_count": 142,
     "metadata": {},
     "output_type": "execute_result"
    }
   ],
   "source": [
    "test_df_for_model.head()"
   ]
  },
  {
   "cell_type": "code",
   "execution_count": 143,
   "metadata": {},
   "outputs": [
    {
     "name": "stderr",
     "output_type": "stream",
     "text": [
      "/var/folders/jr/k9lk0qj54tg_j_rlssdv16c00000gn/T/ipykernel_70283/3662969770.py:72: SettingWithCopyWarning: \n",
      "A value is trying to be set on a copy of a slice from a DataFrame\n",
      "\n",
      "See the caveats in the documentation: https://pandas.pydata.org/pandas-docs/stable/user_guide/indexing.html#returning-a-view-versus-a-copy\n",
      "  prediction.generalized_work_class[special_case_idxes] = prediction.work_name[special_case_idxes].apply(lambda x: self.workname2generalized_work_classes_single_entries[x])\n",
      "/var/folders/jr/k9lk0qj54tg_j_rlssdv16c00000gn/T/ipykernel_70283/3662969770.py:79: SettingWithCopyWarning: \n",
      "A value is trying to be set on a copy of a slice from a DataFrame\n",
      "\n",
      "See the caveats in the documentation: https://pandas.pydata.org/pandas-docs/stable/user_guide/indexing.html#returning-a-view-versus-a-copy\n",
      "  prediction.generalized_work_class[usual_case_idxes] = generalized_work_classes[usual_case_idxes]\n"
     ]
    }
   ],
   "source": [
    "prediction = predictor.predict(test_df_for_model)"
   ]
  },
  {
   "cell_type": "code",
   "execution_count": 144,
   "metadata": {},
   "outputs": [
    {
     "data": {
      "text/html": [
       "<div>\n",
       "<style scoped>\n",
       "    .dataframe tbody tr th:only-of-type {\n",
       "        vertical-align: middle;\n",
       "    }\n",
       "\n",
       "    .dataframe tbody tr th {\n",
       "        vertical-align: top;\n",
       "    }\n",
       "\n",
       "    .dataframe thead th {\n",
       "        text-align: right;\n",
       "    }\n",
       "</style>\n",
       "<table border=\"1\" class=\"dataframe\">\n",
       "  <thead>\n",
       "    <tr style=\"text-align: right;\">\n",
       "      <th></th>\n",
       "      <th>work_name</th>\n",
       "      <th>generalized_work_class</th>\n",
       "      <th>global_work_class</th>\n",
       "    </tr>\n",
       "  </thead>\n",
       "  <tbody>\n",
       "    <tr>\n",
       "      <th>0</th>\n",
       "      <td>монтаж шаровых кранов, дроссельной шайбы, запо...</td>\n",
       "      <td>Монтаж мк</td>\n",
       "      <td>Монтаж мк</td>\n",
       "    </tr>\n",
       "    <tr>\n",
       "      <th>1</th>\n",
       "      <td>монтаж кипиа и зра с электроприводом</td>\n",
       "      <td>Монтаж ЗРА</td>\n",
       "      <td>Монтаж</td>\n",
       "    </tr>\n",
       "    <tr>\n",
       "      <th>2</th>\n",
       "      <td>монтаж оборудования и приборов</td>\n",
       "      <td>Монтаж приборов</td>\n",
       "      <td>Монтаж</td>\n",
       "    </tr>\n",
       "    <tr>\n",
       "      <th>3</th>\n",
       "      <td>тх./поз.2.13.1-2/монтаж арматуры</td>\n",
       "      <td>Монтаж арматуры</td>\n",
       "      <td>Монтаж</td>\n",
       "    </tr>\n",
       "    <tr>\n",
       "      <th>4</th>\n",
       "      <td>монтаж шаровых кранов, огнепреградителя, дросс...</td>\n",
       "      <td>Монтаж мк</td>\n",
       "      <td>Монтаж мк</td>\n",
       "    </tr>\n",
       "  </tbody>\n",
       "</table>\n",
       "</div>"
      ],
      "text/plain": [
       "                                           work_name generalized_work_class  \\\n",
       "0  монтаж шаровых кранов, дроссельной шайбы, запо...              Монтаж мк   \n",
       "1               монтаж кипиа и зра с электроприводом             Монтаж ЗРА   \n",
       "2                     монтаж оборудования и приборов        Монтаж приборов   \n",
       "3                   тх./поз.2.13.1-2/монтаж арматуры        Монтаж арматуры   \n",
       "4  монтаж шаровых кранов, огнепреградителя, дросс...              Монтаж мк   \n",
       "\n",
       "  global_work_class  \n",
       "0         Монтаж мк  \n",
       "1            Монтаж  \n",
       "2            Монтаж  \n",
       "3            Монтаж  \n",
       "4         Монтаж мк  "
      ]
     },
     "execution_count": 144,
     "metadata": {},
     "output_type": "execute_result"
    }
   ],
   "source": [
    "prediction.head()"
   ]
  },
  {
   "cell_type": "code",
   "execution_count": 149,
   "metadata": {},
   "outputs": [
    {
     "name": "stdout",
     "output_type": "stream",
     "text": [
      "Ratio of correctly predicted generalized_work_class 0.9932845549817586\n",
      "Ratio of correctly predicted global_work_class 0.993709007488555\n"
     ]
    }
   ],
   "source": [
    "print(\"Ratio of correctly predicted generalized_work_class\", (prediction.generalized_work_class == test_df.generalized_work_class).sum() / len(prediction))\n",
    "print(\"Ratio of correctly predicted global_work_class\", (prediction.global_work_class == test_df.global_work_class).sum() / len(prediction))"
   ]
  },
  {
   "cell_type": "code",
   "execution_count": 148,
   "metadata": {},
   "outputs": [
    {
     "name": "stderr",
     "output_type": "stream",
     "text": [
      "/Users/cherniak/anaconda3/envs/industrial_ml_2/lib/python3.8/site-packages/sklearn/metrics/_classification.py:1469: UndefinedMetricWarning: Precision is ill-defined and being set to 0.0 in labels with no predicted samples. Use `zero_division` parameter to control this behavior.\n",
      "  _warn_prf(average, modifier, msg_start, len(result))\n"
     ]
    },
    {
     "name": "stdout",
     "output_type": "stream",
     "text": [
      "Precision (generalized_work_class):  0.9763076038884346\n",
      "Recall (generalized_work_class):  0.930060970778018\n",
      "\n"
     ]
    },
    {
     "name": "stderr",
     "output_type": "stream",
     "text": [
      "/Users/cherniak/anaconda3/envs/industrial_ml_2/lib/python3.8/site-packages/sklearn/metrics/_classification.py:1469: UndefinedMetricWarning: Precision is ill-defined and being set to 0.0 in labels with no predicted samples. Use `zero_division` parameter to control this behavior.\n",
      "  _warn_prf(average, modifier, msg_start, len(result))\n"
     ]
    },
    {
     "name": "stdout",
     "output_type": "stream",
     "text": [
      "Precision (global_work_class):  0.9782718595314528\n",
      "Recall (global_work_class):  0.9496714258703001\n"
     ]
    }
   ],
   "source": [
    "print(\"Precision (generalized_work_class): \", precision_score(test_df.generalized_work_class, prediction.generalized_work_class, average=\"macro\"))\n",
    "print(\"Recall (generalized_work_class): \", recall_score(test_df.generalized_work_class, prediction.generalized_work_class, average=\"macro\"))\n",
    "print()\n",
    "print(\"Precision (global_work_class): \", precision_score(test_df.global_work_class, prediction.global_work_class, average=\"macro\"))\n",
    "print(\"Recall (global_work_class): \", recall_score(test_df.global_work_class, prediction.global_work_class, average=\"macro\"))"
   ]
  },
  {
   "cell_type": "code",
   "execution_count": null,
   "metadata": {},
   "outputs": [],
   "source": []
  }
 ],
 "metadata": {
  "kernelspec": {
   "display_name": "industrial_ml_2",
   "language": "python",
   "name": "python3"
  },
  "language_info": {
   "codemirror_mode": {
    "name": "ipython",
    "version": 3
   },
   "file_extension": ".py",
   "mimetype": "text/x-python",
   "name": "python",
   "nbconvert_exporter": "python",
   "pygments_lexer": "ipython3",
   "version": "3.8.18"
  }
 },
 "nbformat": 4,
 "nbformat_minor": 2
}
